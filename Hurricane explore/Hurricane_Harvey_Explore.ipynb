{
 "cells": [
  {
   "cell_type": "code",
   "execution_count": null,
   "metadata": {},
   "outputs": [],
   "source": [
    "import pandas as pd\n",
    "import ipywidgets as widgets\n",
    "from ipywidgets import interact\n",
    "\n",
    "import utils\n",
    "\n",
    "print('All packages imported successfully!')\n",
    "\n",
    "//https://ieee-dataport.org/open-access/detecting-damaged-buildings-post-hurricane-satellite-imagery-based-customized"
   ]
  },
  {
   "cell_type": "code",
   "execution_count": null,
   "metadata": {
    "hidden": true,
    "scrolled": false
   },
   "outputs": [],
   "source": [
    "metadata = utils.get_dataframe_from_file_structure()\n",
    "\n",
    "# Display the first five rows of the dataset\n",
    "metadata.head()"
   ]
  },
  {
   "cell_type": "code",
   "execution_count": null,
   "metadata": {},
   "outputs": [],
   "source": [
    "# Create dataframe that summarizes image classification in each subset\n",
    "df = pd.pivot_table(metadata, index='subset', columns='label', values='filename', aggfunc='count')\n",
    "\n",
    "# Add new column with total number of images in each subset\n",
    "df['total'] = df['visible_damage'] + df['no_damage']\n",
    "\n",
    "# Show dataframe\n",
    "df"
   ]
  },
  {
   "cell_type": "code",
   "execution_count": null,
   "metadata": {},
   "outputs": [],
   "source": [
    "dataset = 'train'\n",
    "# Match images in the no damage and damage dataset based on the location coordinates in the file name\n",
    "matches = list(set(metadata.query(f'subset == \"{dataset}\" & label == \"visible_damage\"')['filename'])\n",
    "               .intersection(metadata.query(f'subset == \"{dataset}\" & label == \"no_damage\"')['filename']))\n",
    "\n",
    "# Load index slider to navigate between the paired images\n",
    "file_index_widget = widgets.IntSlider(min=0, max=len(matches)-1, value=10, description='Image Num')\n",
    "\n",
    "# Load visualizer to match paired images\n",
    "interact(utils.interactive_plot_pair(f'./data/{dataset}/', matches), file_index=file_index_widget)"
   ]
  }
 ],
 "metadata": {
  "kernelspec": {
   "display_name": "Python 3",
   "language": "python",
   "name": "python3"
  },
  "language_info": {
   "codemirror_mode": {
    "name": "ipython",
    "version": 3
   },
   "file_extension": ".py",
   "mimetype": "text/x-python",
   "name": "python",
   "nbconvert_exporter": "python",
   "pygments_lexer": "ipython3",
   "version": "3.7.6"
  }
 },
 "nbformat": 4,
 "nbformat_minor": 2
}
